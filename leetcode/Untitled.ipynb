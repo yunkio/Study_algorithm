{
 "cells": [
  {
   "cell_type": "code",
   "execution_count": 6,
   "metadata": {},
   "outputs": [
    {
     "name": "stdin",
     "output_type": "stream",
     "text": [
      " 10 2\n",
      " 3 -2 -4 -9 0 3 7 13 8 -3\n"
     ]
    }
   ],
   "source": [
    "N, K = map(int, input().split(' '))\n",
    "nums = list(map(int, input().split(' ')))"
   ]
  },
  {
   "cell_type": "code",
   "execution_count": 29,
   "metadata": {},
   "outputs": [
    {
     "name": "stdout",
     "output_type": "stream",
     "text": [
      "0 2\n",
      "1\n",
      "1 3\n",
      "1\n",
      "2 4\n",
      "1\n",
      "3 5\n",
      "3\n",
      "4 6\n",
      "10\n",
      "5 7\n",
      "20\n",
      "6 8\n",
      "21\n",
      "7 9\n",
      "21\n"
     ]
    }
   ],
   "source": [
    "result, s = sum(nums[0:K]), sum(nums[0:K])\n",
    "for i in range(N-K):\n",
    "    s -= nums[i]\n",
    "    s += nums[i+K]\n",
    "    result = max(s, result)\n",
    "print(result)"
   ]
  },
  {
   "cell_type": "code",
   "execution_count": null,
   "metadata": {},
   "outputs": [],
   "source": []
  }
 ],
 "metadata": {
  "kernelspec": {
   "display_name": "Python 3",
   "language": "python",
   "name": "python3"
  },
  "language_info": {
   "codemirror_mode": {
    "name": "ipython",
    "version": 3
   },
   "file_extension": ".py",
   "mimetype": "text/x-python",
   "name": "python",
   "nbconvert_exporter": "python",
   "pygments_lexer": "ipython3",
   "version": "3.7.4"
  }
 },
 "nbformat": 4,
 "nbformat_minor": 4
}
