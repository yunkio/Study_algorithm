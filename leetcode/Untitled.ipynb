{
 "cells": [
  {
   "cell_type": "code",
   "execution_count": 19,
   "metadata": {},
   "outputs": [
    {
     "name": "stdin",
     "output_type": "stream",
     "text": [
      " 2 5\n",
      " 9 9 9 9 9\n"
     ]
    }
   ],
   "source": [
    "N, M = map(int, input().split(' '))\n",
    "nums = list(map(int, input().split(' ')))"
   ]
  },
  {
   "cell_type": "code",
   "execution_count": 21,
   "metadata": {},
   "outputs": [
    {
     "name": "stdout",
     "output_type": "stream",
     "text": [
      "0\n"
     ]
    }
   ],
   "source": [
    "answer = sys.maxsize\n",
    "for i in range(len(nums)):\n",
    "    mynums = nums[i:]\n",
    "    j = 0\n",
    "    target = M\n",
    "    if sum(mynums) >= M:\n",
    "        for j in range(len(mynums)):\n",
    "            target -= mynums[j]\n",
    "            if target == 0:\n",
    "                answer = min(sys.maxsize, j+1)\n",
    "                break\n",
    "            elif target < 0:\n",
    "                break\n",
    "\n",
    "if answer == sys.maxsize:\n",
    "    answer = 0\n",
    "\n",
    "print(answer)"
   ]
  },
  {
   "cell_type": "code",
   "execution_count": null,
   "metadata": {},
   "outputs": [],
   "source": []
  }
 ],
 "metadata": {
  "kernelspec": {
   "display_name": "Python 3",
   "language": "python",
   "name": "python3"
  },
  "language_info": {
   "codemirror_mode": {
    "name": "ipython",
    "version": 3
   },
   "file_extension": ".py",
   "mimetype": "text/x-python",
   "name": "python",
   "nbconvert_exporter": "python",
   "pygments_lexer": "ipython3",
   "version": "3.7.4"
  }
 },
 "nbformat": 4,
 "nbformat_minor": 4
}
