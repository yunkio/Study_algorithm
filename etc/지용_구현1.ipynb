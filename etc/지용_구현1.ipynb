{
 "cells": [
  {
   "cell_type": "code",
   "execution_count": 1,
   "metadata": {},
   "outputs": [
    {
     "name": "stdin",
     "output_type": "stream",
     "text": [
      " 2\n",
      " welcome to ulab\n",
      " good luck and have fun\n"
     ]
    }
   ],
   "source": [
    "q = [input() for i in range(int(input()))]"
   ]
  },
  {
   "cell_type": "code",
   "execution_count": 6,
   "metadata": {},
   "outputs": [],
   "source": [
    "num = ['adgjmptw ', 'behknqux', 'cfilorvy', 'sz']"
   ]
  },
  {
   "cell_type": "code",
   "execution_count": 11,
   "metadata": {},
   "outputs": [
    {
     "name": "stdout",
     "output_type": "stream",
     "text": [
      "29\n",
      "41\n"
     ]
    }
   ],
   "source": [
    "for sentence in q:\n",
    "    answer = 0\n",
    "    for letter in sentence:\n",
    "        for press in range(len(num)):\n",
    "            if letter in num[press]:\n",
    "                answer += (press+1) \n",
    "    print(answer)"
   ]
  }
 ],
 "metadata": {
  "kernelspec": {
   "display_name": "Python 3",
   "language": "python",
   "name": "python3"
  },
  "language_info": {
   "codemirror_mode": {
    "name": "ipython",
    "version": 3
   },
   "file_extension": ".py",
   "mimetype": "text/x-python",
   "name": "python",
   "nbconvert_exporter": "python",
   "pygments_lexer": "ipython3",
   "version": "3.7.3"
  }
 },
 "nbformat": 4,
 "nbformat_minor": 4
}
