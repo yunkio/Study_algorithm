{
 "cells": [
  {
   "cell_type": "code",
   "execution_count": 37,
   "metadata": {},
   "outputs": [
    {
     "name": "stdin",
     "output_type": "stream",
     "text": [
      " 1\n",
      " 101 99 9803\n"
     ]
    }
   ],
   "source": [
    "Q = [list(map(int, input().split(\" \"))) for i in range(int(input()))]"
   ]
  },
  {
   "cell_type": "code",
   "execution_count": 38,
   "metadata": {},
   "outputs": [
    {
     "name": "stdout",
     "output_type": "stream",
     "text": [
      "1 1 99\n"
     ]
    }
   ],
   "source": [
    "for i in range(len(Q)):\n",
    "    A,B,C = Q[i]\n",
    "    for x in range(1,101):   \n",
    "        if (A - x)**2 - (2*(B/x)) == (C - x**2):\n",
    "            break\n",
    "    if x == 100:\n",
    "        print(\"No solution.\")\n",
    "    else:\n",
    "        for y in range(1,101-x):\n",
    "            if A - x - y == B/(x*y):\n",
    "                break\n",
    "        if y == (100-x) :\n",
    "            print(\"No solution.\")\n",
    "        else :\n",
    "            print(str(x), str(y), str(A-x-y))"
   ]
  },
  {
   "cell_type": "code",
   "execution_count": null,
   "metadata": {},
   "outputs": [],
   "source": []
  }
 ],
 "metadata": {
  "kernelspec": {
   "display_name": "Python 3",
   "language": "python",
   "name": "python3"
  },
  "language_info": {
   "codemirror_mode": {
    "name": "ipython",
    "version": 3
   },
   "file_extension": ".py",
   "mimetype": "text/x-python",
   "name": "python",
   "nbconvert_exporter": "python",
   "pygments_lexer": "ipython3",
   "version": "3.7.3"
  }
 },
 "nbformat": 4,
 "nbformat_minor": 4
}
