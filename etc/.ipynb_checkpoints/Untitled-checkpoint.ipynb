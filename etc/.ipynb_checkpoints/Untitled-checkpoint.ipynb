{
 "cells": [
  {
   "cell_type": "code",
   "execution_count": 38,
   "metadata": {},
   "outputs": [
    {
     "name": "stdin",
     "output_type": "stream",
     "text": [
      " 2\n",
      " o 10\n",
      " x 1\n",
      " 1010101\n"
     ]
    }
   ],
   "source": [
    "A = dict(list(input().split(\" \") for i in range(int(input()))))\n",
    "A_Q = input()"
   ]
  },
  {
   "cell_type": "code",
   "execution_count": 94,
   "metadata": {},
   "outputs": [
    {
     "name": "stdin",
     "output_type": "stream",
     "text": [
      " 2\n",
      " o 10\n",
      " x 1\n",
      " 1010101\n"
     ]
    },
    {
     "name": "stdout",
     "output_type": "stream",
     "text": [
      "o\n",
      "10\n",
      "10\n",
      "Yes!\n",
      "---\n",
      "x\n",
      "1\n",
      "1\n",
      "Yes!\n",
      "---\n",
      "oo\n",
      "1010\n",
      "1010\n",
      "Yes!\n",
      "---\n",
      "ox\n",
      "101\n",
      "101\n",
      "Yes!\n",
      "---\n",
      "xo\n",
      "110\n",
      "101\n",
      "---\n",
      "xx\n",
      "11\n",
      "10\n",
      "---\n",
      "ooo\n",
      "101010\n",
      "101010\n",
      "Yes!\n",
      "---\n",
      "oox\n",
      "10101\n",
      "10101\n",
      "Yes!\n",
      "---\n",
      "oxo\n",
      "10110\n",
      "10101\n",
      "---\n",
      "oxx\n",
      "1011\n",
      "1010\n",
      "---\n",
      "oooo\n",
      "10101010\n",
      "1010101\n",
      "---\n",
      "ooox\n",
      "1010101\n",
      "1010101\n",
      "ooox\n",
      "---\n",
      "ooxo\n",
      "1010110\n",
      "1010101\n",
      "---\n",
      "ooxx\n",
      "101011\n",
      "101010\n",
      "---\n"
     ]
    },
    {
     "name": "stdin",
     "output_type": "stream",
     "text": [
      " 0\n"
     ]
    }
   ],
   "source": [
    "while True:\n",
    "    N = int(input())\n",
    "    if N == 0:\n",
    "        break\n",
    "    A = dict(list(input().split(\" \") for i in range(N)))\n",
    "    A_Q = input()\n",
    "    q_list = ['']\n",
    "    new_q_list = []\n",
    "\n",
    "    while len(q_list) != 0:\n",
    "        for q in q_list:\n",
    "            for letter in A:\n",
    "                new_q_a = ''\n",
    "                new_q = q + letter\n",
    "                for i in new_q:\n",
    "                    new_q_a += A[i] \n",
    "                print(new_q)\n",
    "                print(new_q_a)\n",
    "                print(A_Q[:len(new_q_a)])\n",
    "                if new_q_a == A_Q:\n",
    "                    print(new_q)\n",
    "                elif new_q_a == A_Q[:len(new_q_a)] :\n",
    "                    print(\"Yes!\")\n",
    "                    new_q_list.append(new_q)\n",
    "                print('---')\n",
    "        q_list = new_q_list\n",
    "        new_q_list = []"
   ]
  },
  {
   "cell_type": "code",
   "execution_count": 100,
   "metadata": {},
   "outputs": [
    {
     "name": "stdin",
     "output_type": "stream",
     "text": [
      " 2\n",
      " o 10\n",
      " x 1\n",
      " 1010101\n"
     ]
    },
    {
     "name": "stdout",
     "output_type": "stream",
     "text": [
      "o\n",
      "10\n",
      "10\n",
      "Yes!\n",
      "---\n",
      "x\n",
      "1\n",
      "1\n",
      "Yes!\n",
      "---\n",
      "oo\n",
      "1010\n",
      "1010\n",
      "Yes!\n",
      "---\n",
      "ox\n",
      "101\n",
      "101\n",
      "Yes!\n",
      "---\n",
      "xo\n",
      "110\n",
      "101\n",
      "---\n",
      "xx\n",
      "11\n",
      "10\n",
      "---\n",
      "ooo\n",
      "101010\n",
      "101010\n",
      "Yes!\n",
      "---\n",
      "oox\n",
      "10101\n",
      "10101\n",
      "Yes!\n",
      "---\n",
      "oxo\n",
      "10110\n",
      "10101\n",
      "---\n",
      "oxx\n",
      "1011\n",
      "1010\n",
      "---\n",
      "oooo\n",
      "10101010\n",
      "1010101\n",
      "---\n",
      "ooox\n",
      "1010101\n",
      "1010101\n",
      "ooox\n",
      "---\n",
      "ooxo\n",
      "1010110\n",
      "1010101\n",
      "---\n",
      "ooxx\n",
      "101011\n",
      "101010\n",
      "---\n"
     ]
    },
    {
     "name": "stdin",
     "output_type": "stream",
     "text": [
      " 0\n"
     ]
    }
   ],
   "source": [
    "while True:\n",
    "    N = int(input())\n",
    "    if N == 0:\n",
    "        break\n",
    "    A = dict(list(input().split(\" \") for i in range(N)))\n",
    "    A_Q = input()\n",
    "    q_list = ['']\n",
    "    new_q_list = []\n",
    "\n",
    "    while len(q_list) != 0:\n",
    "        for q in q_list:\n",
    "            for letter in A:\n",
    "                new_q_a = ''\n",
    "                new_q = q + letter\n",
    "                for i in new_q:\n",
    "                    new_q_a += A[i] \n",
    "                print(new_q)\n",
    "                print(new_q_a)\n",
    "                print(A_Q[:len(new_q_a)])\n",
    "                if new_q_a == A_Q:\n",
    "                    print(new_q)\n",
    "                elif new_q_a == A_Q[:len(new_q_a)] :\n",
    "                    print(\"Yes!\")\n",
    "                    new_q_list.append(new_q)\n",
    "                print('---')\n",
    "        q_list = new_q_list\n",
    "        new_q_list = []"
   ]
  },
  {
   "cell_type": "code",
   "execution_count": 98,
   "metadata": {},
   "outputs": [
    {
     "data": {
      "text/plain": [
       "'345'"
      ]
     },
     "execution_count": 98,
     "metadata": {},
     "output_type": "execute_result"
    }
   ],
   "source": [
    "bbb[2:]"
   ]
  },
  {
   "cell_type": "code",
   "execution_count": null,
   "metadata": {},
   "outputs": [],
   "source": []
  }
 ],
 "metadata": {
  "kernelspec": {
   "display_name": "Python 3",
   "language": "python",
   "name": "python3"
  },
  "language_info": {
   "codemirror_mode": {
    "name": "ipython",
    "version": 3
   },
   "file_extension": ".py",
   "mimetype": "text/x-python",
   "name": "python",
   "nbconvert_exporter": "python",
   "pygments_lexer": "ipython3",
   "version": "3.7.3"
  }
 },
 "nbformat": 4,
 "nbformat_minor": 4
}
